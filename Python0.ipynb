{
  "nbformat": 4,
  "nbformat_minor": 0,
  "metadata": {
    "colab": {
      "provenance": [],
      "authorship_tag": "ABX9TyOIpVGJ6uWGAlEZV8nkkYE7",
      "include_colab_link": true
    },
    "kernelspec": {
      "name": "python3",
      "display_name": "Python 3"
    },
    "language_info": {
      "name": "python"
    }
  },
  "cells": [
    {
      "cell_type": "markdown",
      "metadata": {
        "id": "view-in-github",
        "colab_type": "text"
      },
      "source": [
        "<a href=\"https://colab.research.google.com/github/prdurgam-edu/MLAI_Classes/blob/main/Python0.ipynb\" target=\"_parent\"><img src=\"https://colab.research.google.com/assets/colab-badge.svg\" alt=\"Open In Colab\"/></a>"
      ]
    },
    {
      "cell_type": "markdown",
      "source": [
        "Data Science (Extracts insights from Data)\n",
        "\n",
        "Machine Learning is one of the methods that helps in understanding and solving problems using Data.\n",
        "\n",
        "Types:\n",
        "\n",
        "\n",
        "1.   Supervised     (Labels)\n",
        "2.   Un-Supervised  \n",
        "3.   Semi-Supervised\n",
        "\n"
      ],
      "metadata": {
        "id": "1PJ1mv8LpFNg"
      }
    },
    {
      "cell_type": "markdown",
      "source": [
        "prerequisites (ML/AI):\n",
        "1.   Python\n",
        "2.   SQL\n",
        "3.   Stats\n",
        "\n"
      ],
      "metadata": {
        "id": "uhLteWBwn7wG"
      }
    },
    {
      "cell_type": "markdown",
      "source": [
        "Python"
      ],
      "metadata": {
        "id": "1SE2f7Bgki9n"
      }
    },
    {
      "cell_type": "code",
      "execution_count": 1,
      "metadata": {
        "colab": {
          "base_uri": "https://localhost:8080/",
          "height": 0
        },
        "id": "m9UZ-qFthzSG",
        "outputId": "19153a16-6d90-44dc-fb00-fbbe4484b8eb"
      },
      "outputs": [
        {
          "output_type": "stream",
          "name": "stdout",
          "text": [
            "Hi team!\n"
          ]
        }
      ],
      "source": [
        "print(\"Hi team!\")"
      ]
    },
    {
      "cell_type": "markdown",
      "source": [
        "Keywords     .: True, False, if, else, int for etc\n",
        "\n",
        "Identifiers  .: Name given to variables by us"
      ],
      "metadata": {
        "id": "pqMNycdrq08s"
      }
    },
    {
      "cell_type": "markdown",
      "source": [
        "Comments, Indentation and Statements"
      ],
      "metadata": {
        "id": "-GyNrGwTrW5V"
      }
    },
    {
      "cell_type": "code",
      "source": [
        "q = input() #please input your name here [with first letter as capital]\n",
        "''' This is a also a comment '''\n",
        "print(\"Hi! {}\\n We are happy to inform that you have won the lottery. Please click the below link to see your reward\".format(q)) # please observe this statement carefully. (there is a character which didnt get printed)"
      ],
      "metadata": {
        "colab": {
          "base_uri": "https://localhost:8080/",
          "height": 0
        },
        "id": "Ln1c06mJoayt",
        "outputId": "918dec38-c93b-4217-a1c0-03735e9a37c0"
      },
      "execution_count": 5,
      "outputs": [
        {
          "output_type": "stream",
          "name": "stdout",
          "text": [
            "Pranay\n",
            "Hi! Pranay\n",
            " We are happy to inform that you have won the lottery. Please click the below link to see your reward\n"
          ]
        }
      ]
    },
    {
      "cell_type": "code",
      "source": [
        "if q[0]==q[0]:\n",
        "  print(\"The first letter of your name is: [{}]\".format(q[0].lower())) # Remember that the output has first letter of your name in small, even though you have entered your name starting with a capital"
      ],
      "metadata": {
        "colab": {
          "base_uri": "https://localhost:8080/",
          "height": 0
        },
        "id": "gGxJbdEBtNmw",
        "outputId": "ff6c5739-bffb-4ba5-ef38-9a36794ffbc8"
      },
      "execution_count": 10,
      "outputs": [
        {
          "output_type": "stream",
          "name": "stdout",
          "text": [
            "The first letter of your name is [p]\n"
          ]
        }
      ]
    },
    {
      "cell_type": "markdown",
      "source": [
        "Variables and Data Types"
      ],
      "metadata": {
        "id": "Zq5nml8IurS7"
      }
    },
    {
      "cell_type": "markdown",
      "source": [
        "Variables : (you can assign value)\n",
        "Data Types:\n",
        "\n",
        "\n",
        "1.   Int\n",
        "2.   Float\n",
        "3.   Character/String\n",
        "4.   Boolean\n"
      ],
      "metadata": {
        "id": "MBRRUKn9u0CW"
      }
    },
    {
      "cell_type": "markdown",
      "source": [
        "Index in string"
      ],
      "metadata": {
        "id": "OtH5TUt95ERP"
      }
    },
    {
      "cell_type": "code",
      "source": [
        "q=\"qwerty\"\n",
        "print(q[0])\n",
        "print(q[1])\n",
        "print(q[2])\n",
        "print(q[3])\n",
        "print(q[4])\n",
        "print(q[5])"
      ],
      "metadata": {
        "colab": {
          "base_uri": "https://localhost:8080/",
          "height": 0
        },
        "id": "5PIP3zV45GlB",
        "outputId": "ded0c875-0f97-4c4d-f479-b9b524131e05"
      },
      "execution_count": 47,
      "outputs": [
        {
          "output_type": "stream",
          "name": "stdout",
          "text": [
            "q\n",
            "w\n",
            "e\n",
            "r\n",
            "t\n",
            "y\n"
          ]
        }
      ]
    },
    {
      "cell_type": "markdown",
      "source": [
        "How to reduce the manual effort?? # Remember this question, We will cover it soon"
      ],
      "metadata": {
        "id": "UX2CJzWu5Wmz"
      }
    },
    {
      "cell_type": "markdown",
      "source": [
        "Input, Output"
      ],
      "metadata": {
        "id": "hrsLLE-nv1dL"
      }
    },
    {
      "cell_type": "code",
      "source": [
        "print(\"Hi!\\n\\tAre you liking the class\")"
      ],
      "metadata": {
        "colab": {
          "base_uri": "https://localhost:8080/",
          "height": 0
        },
        "id": "wTyB1I8bv0g1",
        "outputId": "15024fc4-909e-41b8-fc26-5528db7011fb"
      },
      "execution_count": 24,
      "outputs": [
        {
          "output_type": "stream",
          "name": "stdout",
          "text": [
            "Hi!\n",
            "\tAre you liking the class\n"
          ]
        }
      ]
    },
    {
      "cell_type": "markdown",
      "source": [
        "Operations"
      ],
      "metadata": {
        "id": "o8TvAqV8xJvZ"
      }
    },
    {
      "cell_type": "code",
      "source": [
        "1+2"
      ],
      "metadata": {
        "colab": {
          "base_uri": "https://localhost:8080/",
          "height": 0
        },
        "id": "0Xz7hW9muzPW",
        "outputId": "d3a4a902-d07f-49c3-cdd2-01f0850b956c"
      },
      "execution_count": 23,
      "outputs": [
        {
          "output_type": "execute_result",
          "data": {
            "text/plain": [
              "3"
            ]
          },
          "metadata": {},
          "execution_count": 23
        }
      ]
    },
    {
      "cell_type": "code",
      "source": [
        "whether = str(input())\n",
        "if whether==\"rainy\":\n",
        "  print(\"please take your umbrella\")\n",
        "else:\n",
        "  if whether==\"sunny\":\n",
        "    print(\"please take your shades\")\n",
        "  else:\n",
        "    print(\"It might be cool outside, so take your sweater\")"
      ],
      "metadata": {
        "colab": {
          "base_uri": "https://localhost:8080/",
          "height": 0
        },
        "id": "hZSYYZYsuudQ",
        "outputId": "d659bd85-f7d7-47e2-edce-377e52bf7a97"
      },
      "execution_count": 25,
      "outputs": [
        {
          "output_type": "stream",
          "name": "stdout",
          "text": [
            "rainy\n",
            "please take your umbrella\n"
          ]
        }
      ]
    },
    {
      "cell_type": "code",
      "source": [
        "whether = str(input())\n",
        "if whether==\"rainy\":\n",
        "  print(\"please take your umbrella\")\n",
        "elif whether==\"sunny\":\n",
        "  print(\"please take your shades\")\n",
        "else:\n",
        "  print(\"It might be cool outside, so take your sweater\")"
      ],
      "metadata": {
        "colab": {
          "base_uri": "https://localhost:8080/",
          "height": 0
        },
        "id": "KszA_SZYy-d-",
        "outputId": "7d426770-1807-4977-d9c0-3e700f35f74e"
      },
      "execution_count": 26,
      "outputs": [
        {
          "output_type": "stream",
          "name": "stdout",
          "text": [
            "sunny\n",
            "please take your shades\n"
          ]
        }
      ]
    },
    {
      "cell_type": "markdown",
      "source": [
        "Loops"
      ],
      "metadata": {
        "id": "v0TQXw8TzK-S"
      }
    },
    {
      "cell_type": "code",
      "source": [
        "i=1\n",
        "while i<10:\n",
        "  print(i)\n",
        "  i=i+1 #if we dont add +1 to \"i\", \"i\" will always equal to 1 and the loop will run indefinitly. Please feel free to try without this increment and with a differnt increment"
      ],
      "metadata": {
        "colab": {
          "base_uri": "https://localhost:8080/",
          "height": 0
        },
        "id": "LTEiZS2pzRog",
        "outputId": "a3f3370b-df80-4afb-83c3-6ff6e379c962"
      },
      "execution_count": 27,
      "outputs": [
        {
          "output_type": "stream",
          "name": "stdout",
          "text": [
            "1\n",
            "2\n",
            "3\n",
            "4\n",
            "5\n",
            "6\n",
            "7\n",
            "8\n",
            "9\n"
          ]
        }
      ]
    },
    {
      "cell_type": "code",
      "source": [
        "i=1\n",
        "while i<10:\n",
        "  print(i)\n",
        "  i+=1"
      ],
      "metadata": {
        "colab": {
          "base_uri": "https://localhost:8080/",
          "height": 0
        },
        "id": "TNB81HjQz4ZI",
        "outputId": "f6d0d9b2-4bf8-4b8f-b20d-76fd67b673ef"
      },
      "execution_count": 28,
      "outputs": [
        {
          "output_type": "stream",
          "name": "stdout",
          "text": [
            "1\n",
            "2\n",
            "3\n",
            "4\n",
            "5\n",
            "6\n",
            "7\n",
            "8\n",
            "9\n"
          ]
        }
      ]
    },
    {
      "cell_type": "code",
      "source": [
        "for i in range(10):\n",
        "  print(i)"
      ],
      "metadata": {
        "colab": {
          "base_uri": "https://localhost:8080/",
          "height": 0
        },
        "id": "fBNlVsRZz_yN",
        "outputId": "82cfa417-99b5-49d4-803a-03b6ad647bf5"
      },
      "execution_count": 29,
      "outputs": [
        {
          "output_type": "stream",
          "name": "stdout",
          "text": [
            "0\n",
            "1\n",
            "2\n",
            "3\n",
            "4\n",
            "5\n",
            "6\n",
            "7\n",
            "8\n",
            "9\n"
          ]
        }
      ]
    },
    {
      "cell_type": "code",
      "source": [
        "for i in range(1,10):\n",
        "  print(i)"
      ],
      "metadata": {
        "colab": {
          "base_uri": "https://localhost:8080/",
          "height": 0
        },
        "id": "hdqvFhf40KpG",
        "outputId": "9228b2c2-7102-4c43-8409-80e817243385"
      },
      "execution_count": 30,
      "outputs": [
        {
          "output_type": "stream",
          "name": "stdout",
          "text": [
            "1\n",
            "2\n",
            "3\n",
            "4\n",
            "5\n",
            "6\n",
            "7\n",
            "8\n",
            "9\n"
          ]
        }
      ]
    },
    {
      "cell_type": "code",
      "source": [
        "for i in range(2,10,2):\n",
        "  print(i)"
      ],
      "metadata": {
        "colab": {
          "base_uri": "https://localhost:8080/",
          "height": 0
        },
        "id": "nvAPMSzz0NcS",
        "outputId": "2aa0cd3d-4ee1-4cf3-b70a-16376deafb66"
      },
      "execution_count": 31,
      "outputs": [
        {
          "output_type": "stream",
          "name": "stdout",
          "text": [
            "2\n",
            "4\n",
            "6\n",
            "8\n"
          ]
        }
      ]
    },
    {
      "cell_type": "code",
      "source": [
        "for i in range(10,2,-1):\n",
        "  print(i)"
      ],
      "metadata": {
        "colab": {
          "base_uri": "https://localhost:8080/",
          "height": 0
        },
        "id": "wwvHTTKO0Qg5",
        "outputId": "684e60ce-22d2-4318-a035-f9afc3d4da34"
      },
      "execution_count": 33,
      "outputs": [
        {
          "output_type": "stream",
          "name": "stdout",
          "text": [
            "10\n",
            "9\n",
            "8\n",
            "7\n",
            "6\n",
            "5\n",
            "4\n",
            "3\n"
          ]
        }
      ]
    },
    {
      "cell_type": "markdown",
      "source": [
        "\"For\" loop is more comfortable than \"While\" loop. But there will be some situtations where \"While\" loop is more comfortable \"For\". eg:"
      ],
      "metadata": {
        "id": "_jhpEqq80e1m"
      }
    },
    {
      "cell_type": "code",
      "source": [
        "Flag= True\n",
        "i=1\n",
        "while Flag:\n",
        "  print(Flag)\n",
        "  if i==10:\n",
        "    Flag=False\n",
        "    print(\"{}: {}\".format(i,Flag))\n",
        "  i=i+1"
      ],
      "metadata": {
        "colab": {
          "base_uri": "https://localhost:8080/",
          "height": 0
        },
        "id": "WrzN-nCC0xpa",
        "outputId": "74cf5363-e7c3-42a7-c5bb-1f8010ea45ed"
      },
      "execution_count": 38,
      "outputs": [
        {
          "output_type": "stream",
          "name": "stdout",
          "text": [
            "True\n",
            "True\n",
            "True\n",
            "True\n",
            "True\n",
            "True\n",
            "True\n",
            "True\n",
            "True\n",
            "True\n",
            "10: False\n"
          ]
        }
      ]
    },
    {
      "cell_type": "markdown",
      "source": [
        "Break, Continue"
      ],
      "metadata": {
        "id": "bKFYw7Wn1nVh"
      }
    },
    {
      "cell_type": "code",
      "source": [
        "for i in range(10):\n",
        "  print(i*10)\n",
        "  if i==5:\n",
        "    print(i) # Loop broke at 5\n",
        "    break\n",
        "    print(i+1)"
      ],
      "metadata": {
        "colab": {
          "base_uri": "https://localhost:8080/",
          "height": 0
        },
        "id": "X2zwIVzt1qUl",
        "outputId": "e309e8d0-9b4a-44c3-d31a-77af16e60332"
      },
      "execution_count": 45,
      "outputs": [
        {
          "output_type": "stream",
          "name": "stdout",
          "text": [
            "0\n",
            "10\n",
            "20\n",
            "30\n",
            "40\n",
            "50\n",
            "5\n"
          ]
        }
      ]
    },
    {
      "cell_type": "code",
      "source": [
        "for i in range(10):\n",
        "  print(i*10)\n",
        "  if i==5:\n",
        "    print(i) \n",
        "    continue # takes us back to for loop\n",
        "    print(i+1) # Didnt get executed"
      ],
      "metadata": {
        "colab": {
          "base_uri": "https://localhost:8080/",
          "height": 0
        },
        "id": "PYb_pAZZ24hi",
        "outputId": "c8593eb8-13f6-4f20-a89f-dca3833235b9"
      },
      "execution_count": 46,
      "outputs": [
        {
          "output_type": "stream",
          "name": "stdout",
          "text": [
            "0\n",
            "10\n",
            "20\n",
            "30\n",
            "40\n",
            "50\n",
            "5\n",
            "60\n",
            "70\n",
            "80\n",
            "90\n"
          ]
        }
      ]
    },
    {
      "cell_type": "markdown",
      "source": [
        "Please try to solve the below problems\n",
        "\n",
        "\n",
        "*   [Sum of two](http://www.codeabbey.com/index/task_view/sum-of-two)\n",
        "*   [Sum in loop](http://www.codeabbey.com/index/task_view/sum-in-loop)\n",
        "*   [Sums in loop](http://www.codeabbey.com/index/task_view/sums-in-loop)\n",
        "*   [Fahrenheit to Celsius](http://www.codeabbey.com/index/task_view/fahrenheit-celsius)  °C =(°F − 32) × 5/9\n",
        "*   [Weighted sum of digits](http://www.codeabbey.com/index/task_view/weighted-sum-of-digits)\n",
        "*   [Vowel Count](http://www.codeabbey.com/index/task_view/vowel-count)\n",
        "\n"
      ],
      "metadata": {
        "id": "vTFRr9-e33ZD"
      }
    },
    {
      "cell_type": "markdown",
      "source": [
        "***Next steps***:\n",
        "\n",
        "---\n",
        "\n",
        "\n",
        "  Please try to go through the problem statement of ***Novozymes Enzyme Stability Prediction*** ([Overview](https://www.kaggle.com/competitions/novozymes-enzyme-stability-prediction/overview) & [Data](https://www.kaggle.com/competitions/novozymes-enzyme-stability-prediction/data)) and try to come up with ideas to solve the problem.\n",
        "\n",
        "*   To get an idea it is good to understand the in-practice works (for the above statement) and think of how to use them for this problem.\n",
        "\n",
        "Advantages:\n",
        "\n",
        "1.   Get an understanding of\n",
        "\n",
        "\n",
        "> 1.   kind of problems in ML/AI\n",
        "2.   Backend search required to come up with an idea\n",
        "\n",
        "2. Gives you a slight clarity on whether you should continue to explore ML/AI or not."
      ],
      "metadata": {
        "id": "uhCl2Etzh46r"
      }
    }
  ]
}